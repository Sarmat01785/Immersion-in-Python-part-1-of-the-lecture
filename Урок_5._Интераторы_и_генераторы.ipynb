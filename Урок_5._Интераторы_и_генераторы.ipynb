{
 "cells": [
  {
   "cell_type": "markdown",
   "metadata": {},
   "source": [
    "# Конспект: Лекция 5. Итераторы и генераторы"
   ]
  },
  {
   "cell_type": "markdown",
   "metadata": {},
   "source": [
    "## Введение\n",
    "\n",
    "Итераторы и генераторы — это важные концепции в языке программирования Python, которые позволяют эффективно работать с последовательностями данных. Эти инструменты позволяют обрабатывать большие объемы данных, избегая необходимости загружать все элементы в память сразу. В данной лекции мы рассмотрим, что такое итераторы и генераторы, как их создавать и использовать, а также чем они отличаются друг от друга"
   ]
  },
  {
   "cell_type": "markdown",
   "metadata": {},
   "source": [
    "### Термины лекции\n",
    "\n",
    "1. **Итератор (Iterator)** — объект, поддерживающий протокол итерации. С помощью итераторов можно последовательно получать элементы коллекции, не загружая их все сразу в память.\n",
    "\n",
    "2. **Генератор (Generator)** — это разновидность итератора, который создается с помощью функции с ключевым словом `yield`. Генераторы позволяют лениво вычислять значения по мере необходимости.\n",
    "\n",
    "3. **Протокол итерации** — это набор методов, который должен реализовать объект для того, чтобы быть итератором. Основные методы: `__iter__()` и `__next__()`.\n",
    "\n",
    "4. **Лямбда-функция (Lambda Function)** — это небольшая анонимная функция, которая создается с помощью ключевого слова `lambda` и может использоваться в выражениях."
   ]
  },
  {
   "cell_type": "markdown",
   "metadata": {},
   "source": [
    "### Обмен значениями переменных\n",
    "\n",
    "В Python можно легко обменять значения двух переменных без использования временной переменной, что удобно для однострочных операций.\n",
    "\n",
    "Пример:"
   ]
  },
  {
   "cell_type": "code",
   "execution_count": 8,
   "metadata": {},
   "outputs": [
    {
     "name": "stdout",
     "output_type": "stream",
     "text": [
      "10 5\n"
     ]
    }
   ],
   "source": [
    "a, b = 5, 10\n",
    "a, b = b, a\n",
    "print(a, b)  # Output: 10 5"
   ]
  },
  {
   "cell_type": "markdown",
   "metadata": {},
   "source": [
    "Пояснение:\n",
    "\n",
    "- В данном примере значения переменных a и b меняются местами с использованием множественного присваивания."
   ]
  },
  {
   "cell_type": "markdown",
   "metadata": {},
   "source": [
    "### Распаковка коллекции\n",
    "\n",
    "Распаковка позволяет извлекать элементы коллекции (например, списка или кортежа) и присваивать их отдельным переменным.\n",
    "\n",
    "Пример распаковки коллекции:"
   ]
  },
  {
   "cell_type": "code",
   "execution_count": 10,
   "metadata": {},
   "outputs": [
    {
     "name": "stdout",
     "output_type": "stream",
     "text": [
      "1 2 3\n"
     ]
    }
   ],
   "source": [
    "data = [1, 2, 3]\n",
    "a, b, c = data\n",
    "print(a, b, c)  # Output: 1 2 3"
   ]
  },
  {
   "cell_type": "markdown",
   "metadata": {},
   "source": [
    "Пояснение:\n",
    "\n",
    "- В этом примере элементы списка data присваиваются переменным a, b и c."
   ]
  },
  {
   "cell_type": "markdown",
   "metadata": {},
   "source": [
    "### Распаковка со звёздочкой\n",
    "\n",
    "Распаковка со звёздочкой `(*)` позволяет собирать оставшиеся элементы коллекции в один список, что удобно, если вам не нужно явно указывать количество элементов.\n",
    "\n",
    "Пример распаковки со звёздочкой:"
   ]
  },
  {
   "cell_type": "code",
   "execution_count": 14,
   "metadata": {},
   "outputs": [
    {
     "name": "stdout",
     "output_type": "stream",
     "text": [
      "1\n",
      "[2, 3, 4]\n",
      "5\n"
     ]
    }
   ],
   "source": [
    "data = [1, 2, 3, 4, 5]\n",
    "a, *b, c = data\n",
    "print(a)  # Output: 1\n",
    "print(b)  # Output: [2, 3, 4]\n",
    "print(c)  # Output: 5"
   ]
  },
  {
   "cell_type": "markdown",
   "metadata": {},
   "source": [
    "Пояснение:\n",
    "\n",
    "- В данном примере первый и последний элементы списка присваиваются переменным `a` и `c`, а оставшиеся элементы собираются в список `b`."
   ]
  },
  {
   "cell_type": "markdown",
   "metadata": {},
   "source": [
    "### Множественное присваивание\n",
    "\n",
    "Множественное присваивание позволяет одновременно присвоить значения нескольким переменным, что сокращает код и делает его более читаемым.\n",
    "\n",
    "Пример множественного присваивания:"
   ]
  },
  {
   "cell_type": "code",
   "execution_count": 15,
   "metadata": {},
   "outputs": [
    {
     "name": "stdout",
     "output_type": "stream",
     "text": [
      "1 2 3\n"
     ]
    }
   ],
   "source": [
    "x, y, z = 1, 2, 3\n",
    "print(x, y, z)  # Output: 1 2 3"
   ]
  },
  {
   "cell_type": "markdown",
   "metadata": {},
   "source": [
    "Пояснение:\n",
    "\n",
    "- В этом примере значения 1, 2 и 3 одновременно присваиваются переменным `x`, `y` и `z`."
   ]
  },
  {
   "cell_type": "markdown",
   "metadata": {},
   "source": [
    "### Множественное сравнение\n",
    "\n",
    "Python поддерживает множественное сравнение, что позволяет писать цепочки сравнений в одной строке.\n",
    "\n",
    "Пример множественного сравнения:"
   ]
  },
  {
   "cell_type": "code",
   "execution_count": 16,
   "metadata": {},
   "outputs": [
    {
     "name": "stdout",
     "output_type": "stream",
     "text": [
      "True\n"
     ]
    }
   ],
   "source": [
    "x = 5\n",
    "result = 1 < x < 10\n",
    "print(result)  # Output: True"
   ]
  },
  {
   "cell_type": "markdown",
   "metadata": {},
   "source": [
    "Пояснение:\n",
    "\n",
    "- В данном примере проверяется, находится ли переменная x в диапазоне от 1 до 10."
   ]
  },
  {
   "cell_type": "markdown",
   "metadata": {},
   "source": [
    "### Однострочники\n",
    "\n",
    "Однострочники — это конструкции в Python, которые можно записать в одну строку, упрощая код и делая его более компактным. Часто используются для небольших операций или быстрого выполнения задач.\n",
    "\n",
    "Пример:"
   ]
  },
  {
   "cell_type": "code",
   "execution_count": 17,
   "metadata": {},
   "outputs": [],
   "source": [
    "result = [x * 2 for x in range(10)]"
   ]
  },
  {
   "cell_type": "markdown",
   "metadata": {},
   "source": [
    "Пояснение:\n",
    "\n",
    "- В данном примере создается список `result`, элементы которого равны удвоенным значениям чисел от 0 до 9."
   ]
  },
  {
   "cell_type": "markdown",
   "metadata": {},
   "source": [
    "### Полезные однострочники\n",
    "\n",
    "Полезные однострочники позволяют быстро выполнять типовые операции. Например, генерация списка чисел, фильтрация списка или вычисление суммы элементов.\n",
    "\n",
    "Примеры полезных однострочников:"
   ]
  },
  {
   "cell_type": "code",
   "execution_count": 18,
   "metadata": {},
   "outputs": [],
   "source": [
    "# Генерация списка квадратов чисел\n",
    "squares = [x**2 for x in range(10)]\n",
    "\n",
    "# Фильтрация списка\n",
    "evens = [x for x in range(10) if x % 2 == 0]\n",
    "\n",
    "# Вычисление суммы элементов списка\n",
    "total = sum([x for x in range(10)])"
   ]
  },
  {
   "cell_type": "markdown",
   "metadata": {},
   "source": [
    "Пояснение:\n",
    "\n",
    "- Эти однострочники позволяют быстро генерировать, фильтровать и суммировать элементы списков."
   ]
  },
  {
   "cell_type": "markdown",
   "metadata": {},
   "source": [
    "### Итераторы\n",
    "\n",
    "Итератор — это объект, который позволяет проходить по элементам коллекции, не загружая их все в память сразу. Чтобы объект стал итератором, он должен реализовывать методы \n",
    "\n",
    "`__iter__()` и `__next__()`.\n",
    "\n",
    "Пример создания итератора:"
   ]
  },
  {
   "cell_type": "code",
   "execution_count": 22,
   "metadata": {},
   "outputs": [
    {
     "name": "stdout",
     "output_type": "stream",
     "text": [
      "1\n",
      "2\n",
      "3\n",
      "4\n"
     ]
    }
   ],
   "source": [
    "class MyRange:\n",
    "    def __init__(self, start, end):\n",
    "        self.current = start\n",
    "        self.end = end\n",
    "    \n",
    "    def __iter__(self):\n",
    "        return self\n",
    "    \n",
    "    def __next__(self):\n",
    "        if self.current < self.end:\n",
    "            number = self.current\n",
    "            self.current += 1\n",
    "            return number\n",
    "        else:\n",
    "            raise StopIteration\n",
    "\n",
    "my_range = MyRange(1, 5)\n",
    "for num in my_range:\n",
    "    print(num)\n"
   ]
  },
  {
   "cell_type": "markdown",
   "metadata": {},
   "source": [
    "Пояснение:\n",
    "\n",
    "- В этом примере мы создаем класс `MyRange`, который реализует интерфейс итератора. Метод `__next__()` возвращает текущее значение и увеличивает его на единицу, пока не достигнет конца диапазона."
   ]
  },
  {
   "cell_type": "markdown",
   "metadata": {},
   "source": [
    "### Генераторы\n",
    "\n",
    "Генераторы — это удобный способ создания итераторов с использованием функции и ключевого слова `yield`. Они позволяют лениво вычислять значения, т.е. по мере необходимости, а не загружая все сразу.\n",
    "\n",
    "Пример создания генератора:"
   ]
  },
  {
   "cell_type": "code",
   "execution_count": 25,
   "metadata": {},
   "outputs": [
    {
     "name": "stdout",
     "output_type": "stream",
     "text": [
      "1\n",
      "2\n",
      "3\n",
      "4\n"
     ]
    }
   ],
   "source": [
    "def my_range(start, end):\n",
    "    current = start\n",
    "    while current < end:\n",
    "        yield current\n",
    "        current += 1\n",
    "\n",
    "for num in my_range(1, 5):\n",
    "    print(num)"
   ]
  },
  {
   "cell_type": "markdown",
   "metadata": {},
   "source": [
    "Пояснение:\n",
    "\n",
    "- Генератор `my_range` возвращает значения от `start` до `end`, каждый раз приостанавливая выполнение функции с помощью `yield` и продолжая с того места, где остановился при следующем вызове."
   ]
  },
  {
   "cell_type": "markdown",
   "metadata": {},
   "source": [
    "### Генераторные выражения\n",
    "\n",
    "Генераторные выражения — это краткий способ создания генераторов с использованием синтаксиса, похожего на списковые включения, но с использованием круглых скобок вместо квадратных.\n",
    "\n",
    "Пример генераторного выражения:"
   ]
  },
  {
   "cell_type": "code",
   "execution_count": 26,
   "metadata": {},
   "outputs": [
    {
     "name": "stdout",
     "output_type": "stream",
     "text": [
      "<generator object <genexpr> at 0x0000016EC756C450>\n",
      "[0, 1, 4, 9, 16]\n"
     ]
    }
   ],
   "source": [
    "squares = (x ** 2 for x in range(5))\n",
    "print(squares)\n",
    "print(list(squares))"
   ]
  },
  {
   "cell_type": "markdown",
   "metadata": {},
   "source": [
    "Пояснение:\n",
    "\n",
    "- Генераторное выражение `(x ** 2 for x in range(5))` создает генератор, который вычисляет квадраты чисел от 0 до 4. При необходимости генератор можно преобразовать в список."
   ]
  },
  {
   "cell_type": "markdown",
   "metadata": {},
   "source": [
    "### Пример: Генератор чисел Фибоначчи\n",
    "\n",
    "Генераторы позволяют создавать последовательности с ленивыми вычислениями, такие как числа Фибоначчи.\n",
    "\n",
    "Пример генератора чисел Фибоначчи:"
   ]
  },
  {
   "cell_type": "code",
   "execution_count": 28,
   "metadata": {},
   "outputs": [
    {
     "name": "stdout",
     "output_type": "stream",
     "text": [
      "0\n",
      "1\n",
      "1\n",
      "2\n",
      "3\n",
      "5\n",
      "8\n",
      "13\n",
      "21\n",
      "34\n"
     ]
    }
   ],
   "source": [
    "def fibonacci():\n",
    "    a, b = 0, 1\n",
    "    while True:\n",
    "        yield a\n",
    "        a, b = b, a + b\n",
    "\n",
    "fib = fibonacci()\n",
    "for _ in range(10):\n",
    "    print(next(fib))"
   ]
  },
  {
   "cell_type": "markdown",
   "metadata": {},
   "source": [
    "Пояснение:\n",
    "\n",
    "- Генератор `fibonacci()` создает бесконечную последовательность чисел Фибоначчи. В данном примере мы выводим первые 10 чисел этой последовательности."
   ]
  },
  {
   "cell_type": "markdown",
   "metadata": {},
   "source": [
    "### Пример: Генератор для вычисления факториала\n",
    "\n",
    "Факториал вычисляется как произведение всех натуральных чисел от 1 до n. Генератор позволяет пошагово вычислять эти значения.\n",
    "\n",
    "Пример генератора факториала:"
   ]
  },
  {
   "cell_type": "code",
   "execution_count": 30,
   "metadata": {},
   "outputs": [
    {
     "name": "stdout",
     "output_type": "stream",
     "text": [
      "[1, 2, 6, 24, 120]\n"
     ]
    }
   ],
   "source": [
    "def factorial_gen(n):\n",
    "    result = 1\n",
    "    for i in range(1, n + 1):\n",
    "        result *= i\n",
    "        yield result\n",
    "    return result\n",
    "print(list(factorial_gen(5)))"
   ]
  }
 ],
 "metadata": {
  "kernelspec": {
   "display_name": "Python 3 (ipykernel)",
   "language": "python",
   "name": "python3"
  },
  "language_info": {
   "codemirror_mode": {
    "name": "ipython",
    "version": 3
   },
   "file_extension": ".py",
   "mimetype": "text/x-python",
   "name": "python",
   "nbconvert_exporter": "python",
   "pygments_lexer": "ipython3",
   "version": "3.11.5"
  }
 },
 "nbformat": 4,
 "nbformat_minor": 2
}
