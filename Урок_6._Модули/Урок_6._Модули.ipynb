{
 "cells": [
  {
   "cell_type": "markdown",
   "metadata": {},
   "source": [
    "# Лекция 6. Погружение в Python. Модули\n",
    "\n",
    "#### Оглавление\n",
    "\n",
    "1. Введение\n",
    "\n",
    "2. Ещё раз про `import`\n",
    "\n",
    "- Переменная `sys.path`\n",
    "\n",
    "- Антипримеры импорта\n",
    "\n",
    "- Использование `from` и `as`\n",
    "\n",
    "- Плохой импорт `*`\n",
    "\n",
    "- Переменная `__all__`\n",
    "\n",
    "3. Виды модулей\n",
    "\n",
    "- Встроенные модули\n",
    "\n",
    "- Свои модули\n",
    "\n",
    "- Пишем свой модуль: `__name__ == '__main__'`\n",
    "\n",
    "- Разбор плохого импорта\n",
    "\n",
    "- Создание пакетов и их импорт\n",
    "\n",
    "- Разница между модулем и пакетом\n",
    "\n",
    "- Варианты импорта\n",
    "\n",
    "4. Некоторые модули \"из коробки\"\n",
    "\n",
    "- Модуль `sys`\n",
    "\n",
    "- Модуль `random`\n",
    "\n",
    "5. Советы по организации модулей в реальных проектах\n",
    "\n",
    "6. Дополнительные практические примеры"
   ]
  },
  {
   "cell_type": "markdown",
   "metadata": {},
   "source": [
    "# Введение\n",
    "\n",
    "В Python модули — это файлы, содержащие определения и операторы, которые могут быть повторно использованы в других частях программы. Модули позволяют структурировать код, что облегчает его поддержку и повторное использование."
   ]
  },
  {
   "cell_type": "markdown",
   "metadata": {},
   "source": [
    "### Ещё раз про `import`\n",
    "\n",
    "Модуль можно импортировать несколькими способами, в зависимости от ваших потребностей. Рассмотрим, как правильно использовать импорт.\n",
    "\n",
    "#### Переменная `sys.path`\n",
    "\n",
    "При импорте модулей Python ищет их в директориях, указанных в sys.path. Если модуль не найден в стандартных директориях, вы можете добавить собственные пути:"
   ]
  },
  {
   "cell_type": "code",
   "execution_count": 1,
   "metadata": {},
   "outputs": [
    {
     "name": "stdout",
     "output_type": "stream",
     "text": [
      "['c:\\\\Users\\\\Сармат\\\\Documents\\\\Обучение\\\\Погружение в Python. Часть 1 (лекции)\\\\Урок_6._Модули', 'C:\\\\Users\\\\Сармат', 'C:\\\\Users\\\\Sarmat\\\\anaconda3\\\\python311.zip', 'C:\\\\Users\\\\Sarmat\\\\anaconda3\\\\DLLs', 'C:\\\\Users\\\\Sarmat\\\\anaconda3\\\\Lib', 'C:\\\\Users\\\\Sarmat\\\\anaconda3', '', 'C:\\\\Users\\\\Сармат\\\\AppData\\\\Roaming\\\\Python\\\\Python311\\\\site-packages', 'C:\\\\Users\\\\Sarmat\\\\anaconda3\\\\Lib\\\\site-packages', 'C:\\\\Users\\\\Sarmat\\\\anaconda3\\\\Lib\\\\site-packages\\\\win32', 'C:\\\\Users\\\\Sarmat\\\\anaconda3\\\\Lib\\\\site-packages\\\\win32\\\\lib', 'C:\\\\Users\\\\Sarmat\\\\anaconda3\\\\Lib\\\\site-packages\\\\Pythonwin']\n"
     ]
    }
   ],
   "source": [
    "import sys\n",
    "\n",
    "# Вывод списка путей поиска модулей\n",
    "print(sys.path)\n",
    "\n",
    "# Добавление нового пути для поиска модулей\n",
    "sys.path.append('/path/to/my/modules')\n",
    "\n",
    "# Теперь Python будет искать модули и в этом каталоге"
   ]
  }
 ],
 "metadata": {
  "kernelspec": {
   "display_name": "Python 3 (ipykernel)",
   "language": "python",
   "name": "python3"
  },
  "language_info": {
   "codemirror_mode": {
    "name": "ipython",
    "version": 3
   },
   "file_extension": ".py",
   "mimetype": "text/x-python",
   "name": "python",
   "nbconvert_exporter": "python",
   "pygments_lexer": "ipython3",
   "version": "3.11.5"
  }
 },
 "nbformat": 4,
 "nbformat_minor": 2
}
