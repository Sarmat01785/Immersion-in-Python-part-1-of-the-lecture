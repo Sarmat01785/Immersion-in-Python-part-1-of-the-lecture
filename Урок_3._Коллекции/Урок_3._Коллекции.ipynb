{
 "cells": [
  {
   "cell_type": "markdown",
   "metadata": {},
   "source": [
    "# Лекция 3. Коллекции в Python\n",
    "\n",
    "## Введение\n",
    "\n",
    "`Коллекция` — это объект, который объединяет несколько других объектов. В Python есть несколько типов коллекций, и мы рассмотрим их все:\n",
    "\n",
    "1. Списки `(list)`\n",
    "\n",
    "2. Строки `(str)`\n",
    "\n",
    "2. Кортежи `(tuple)`\n",
    "\n",
    "4. Словари `(dict)`\n",
    "\n",
    "5. Множества `(set и frozenset)`\n",
    "\n",
    "6. Байты `(bytes и bytearray)`"
   ]
  },
  {
   "cell_type": "markdown",
   "metadata": {},
   "source": [
    "### 1. Списки `(list)`\n",
    "\n",
    "Списки — это упорядоченные коллекции элементов, которые могут содержать элементы разных типов. Список создаётся с помощью квадратных скобок или функции `list()`.\n",
    "\n",
    "Создание списка:"
   ]
  },
  {
   "cell_type": "code",
   "execution_count": 1,
   "metadata": {},
   "outputs": [
    {
     "name": "stdout",
     "output_type": "stream",
     "text": [
      "[]\n",
      "[]\n",
      "[3.14, True, 'Hello world!']\n",
      "[3.14, True, 'Hello world!']\n"
     ]
    }
   ],
   "source": [
    "# Пустой список\n",
    "list_1 = list()\n",
    "list_2 = []\n",
    "\n",
    "# Список с элементами\n",
    "list_3 = list((3.14, True, \"Hello world!\"))\n",
    "list_4 = [3.14, True, \"Hello world!\"]\n",
    "\n",
    "print(list_1)\n",
    "print(list_2)\n",
    "print(list_3)\n",
    "print(list_4)"
   ]
  },
  {
   "cell_type": "markdown",
   "metadata": {},
   "source": [
    "### Доступ к элементам списка\n",
    "\n",
    "Элементы списка доступны по индексу, начиная с 0. Можно использовать как положительные, так и отрицательные индексы."
   ]
  },
  {
   "cell_type": "code",
   "execution_count": 2,
   "metadata": {},
   "outputs": [
    {
     "name": "stdout",
     "output_type": "stream",
     "text": [
      "2\n",
      "12\n"
     ]
    },
    {
     "ename": "IndexError",
     "evalue": "list index out of range",
     "output_type": "error",
     "traceback": [
      "\u001b[1;31m---------------------------------------------------------------------------\u001b[0m",
      "\u001b[1;31mIndexError\u001b[0m                                Traceback (most recent call last)",
      "Cell \u001b[1;32mIn[2], line 6\u001b[0m\n\u001b[0;32m      3\u001b[0m \u001b[38;5;28mprint\u001b[39m(my_list[\u001b[38;5;241m-\u001b[39m\u001b[38;5;241m1\u001b[39m])  \u001b[38;5;66;03m# Вывод: 12\u001b[39;00m\n\u001b[0;32m      5\u001b[0m \u001b[38;5;66;03m# Попытка доступа к несуществующему элементу вызовет ошибку\u001b[39;00m\n\u001b[1;32m----> 6\u001b[0m \u001b[38;5;28mprint\u001b[39m(my_list[\u001b[38;5;241m6\u001b[39m])\n",
      "\u001b[1;31mIndexError\u001b[0m: list index out of range"
     ]
    }
   ],
   "source": [
    "my_list = [2, 4, 6, 8, 10, 12]\n",
    "print(my_list[0])   # Вывод: 2\n",
    "print(my_list[-1])  # Вывод: 12\n",
    "\n",
    "# Попытка доступа к несуществующему элементу вызовет ошибку\n",
    "print(my_list[6])  # IndexError: list index out of range"
   ]
  },
  {
   "cell_type": "markdown",
   "metadata": {},
   "source": [
    "### Изменение элементов списка\n",
    "\n",
    "Мы можем изменять элементы списка по их индексу."
   ]
  },
  {
   "cell_type": "code",
   "execution_count": 27,
   "metadata": {},
   "outputs": [
    {
     "name": "stdout",
     "output_type": "stream",
     "text": [
      "[1, 10, 3]\n"
     ]
    }
   ],
   "source": [
    "my_list = [1, 2, 3]\n",
    "my_list[1] = 10\n",
    "print(my_list)  # Вывод: [1, 10, 3]"
   ]
  },
  {
   "cell_type": "markdown",
   "metadata": {},
   "source": [
    "### Добавление элементов\n",
    "\n",
    "Для добавления элементов в список используются методы `append()` и `extend()`."
   ]
  },
  {
   "cell_type": "code",
   "execution_count": 3,
   "metadata": {},
   "outputs": [
    {
     "name": "stdout",
     "output_type": "stream",
     "text": [
      "[None, 42]\n",
      "[None, 42, 1, 2, 3]\n"
     ]
    }
   ],
   "source": [
    "my_list = [None]\n",
    "\n",
    "# Метод append добавляет один элемент в конец списка\n",
    "my_list.append(42)\n",
    "print(my_list)  # Вывод: [None, 42]\n",
    "\n",
    "# Метод extend добавляет элементы из переданной коллекции в конец списка\n",
    "my_list.extend([1, 2, 3])\n",
    "print(my_list)  # Вывод: [None, 42, 1, 2, 3]"
   ]
  },
  {
   "cell_type": "markdown",
   "metadata": {},
   "source": [
    "### Метод `append()`\n",
    "\n",
    "Метод `append()` добавляет один элемент в конец списка.\n",
    "\n",
    "Синтаксис `list.append(element)`"
   ]
  },
  {
   "cell_type": "code",
   "execution_count": 9,
   "metadata": {},
   "outputs": [
    {
     "name": "stdout",
     "output_type": "stream",
     "text": [
      "[42]\n",
      "[42, 'hello']\n",
      "[42, 'hello', [1, 2, 3]]\n"
     ]
    }
   ],
   "source": [
    "# Создаем пустой список\n",
    "my_list = []\n",
    "\n",
    "# Добавляем один элемент в конец списка\n",
    "my_list.append(42)\n",
    "print(my_list)  # Вывод: [42]\n",
    "\n",
    "# Добавляем еще один элемент\n",
    "my_list.append('hello')\n",
    "print(my_list)  # Вывод: [42, 'hello']\n",
    "\n",
    "# Добавляем список как один элемент\n",
    "my_list.append([1, 2, 3])\n",
    "print(my_list)  # Вывод: [42, 'hello', [1, 2, 3]]"
   ]
  },
  {
   "cell_type": "markdown",
   "metadata": {},
   "source": [
    "В последнем примере видно, что весь список `[1, 2, 3]` был добавлен как один элемент."
   ]
  },
  {
   "cell_type": "markdown",
   "metadata": {},
   "source": [
    "### Метод `extend()`\n",
    "\n",
    "Метод `extend()` добавляет все элементы из итерируемого объекта (например, другого списка) в конец текущего списка. В отличие от `append()`, \n",
    "\n",
    "который добавляет весь объект как один элемент, extend() добавляет каждый элемент по отдельности.\n",
    "\n",
    "Синтаксис `list.extend(iterable)`"
   ]
  },
  {
   "cell_type": "code",
   "execution_count": 10,
   "metadata": {},
   "outputs": [
    {
     "name": "stdout",
     "output_type": "stream",
     "text": [
      "[1, 2, 3]\n",
      "[1, 2, 3, 'a', 'b', 'c']\n",
      "[1, 2, 3, 'a', 'b', 'c', 4, 5]\n"
     ]
    }
   ],
   "source": [
    "# Создаем пустой список\n",
    "my_list = []\n",
    "\n",
    "# Добавляем несколько элементов из другого списка\n",
    "my_list.extend([1, 2, 3])\n",
    "print(my_list)  # Вывод: [1, 2, 3]\n",
    "\n",
    "# Добавляем несколько элементов из строки\n",
    "my_list.extend('abc')\n",
    "print(my_list)  # Вывод: [1, 2, 3, 'a', 'b', 'c']\n",
    "\n",
    "# Добавляем несколько элементов из кортежа\n",
    "my_list.extend((4, 5))\n",
    "print(my_list)  # Вывод: [1, 2, 3, 'a', 'b', 'c', 4, 5]"
   ]
  },
  {
   "cell_type": "markdown",
   "metadata": {},
   "source": [
    "В этих примерах видно, что `extend()` добавляет каждый элемент из переданного объекта по отдельности."
   ]
  },
  {
   "cell_type": "markdown",
   "metadata": {},
   "source": [
    "### Отличия между `append()` и `extend()`\n",
    "\n",
    "- `append()`: Добавляет один элемент (в том числе и коллекцию) в конец списка.\n",
    "\n",
    "- `extend()`: Добавляет все элементы из переданного итерируемого объекта по отдельности в конец списка.\n",
    "\n",
    "Сравнительный пример"
   ]
  },
  {
   "cell_type": "code",
   "execution_count": 11,
   "metadata": {},
   "outputs": [
    {
     "name": "stdout",
     "output_type": "stream",
     "text": [
      "[[1, 2, 3]]\n",
      "[1, 2, 3]\n"
     ]
    }
   ],
   "source": [
    "# Создаем пустой список\n",
    "my_list = []\n",
    "\n",
    "# Используем append для добавления списка\n",
    "my_list.append([1, 2, 3])\n",
    "print(my_list)  # Вывод: [[1, 2, 3]]\n",
    "\n",
    "# Создаем новый пустой список\n",
    "my_list = []\n",
    "\n",
    "# Используем extend для добавления списка\n",
    "my_list.extend([1, 2, 3])\n",
    "print(my_list)  # Вывод: [1, 2, 3]"
   ]
  },
  {
   "cell_type": "markdown",
   "metadata": {},
   "source": [
    "В этом примере `append()` добавляет весь список `[1, 2, 3]` как один элемент, в то время как `extend()` добавляет каждый элемент из списка по \n",
    "\n",
    "отдельности."
   ]
  },
  {
   "cell_type": "markdown",
   "metadata": {},
   "source": [
    "### Метод `insert()`\n",
    "\n",
    "Метод `insert(`) вставляет элемент на указанную позицию."
   ]
  },
  {
   "cell_type": "code",
   "execution_count": 28,
   "metadata": {},
   "outputs": [
    {
     "name": "stdout",
     "output_type": "stream",
     "text": [
      "[1, 2, 3, 4]\n"
     ]
    }
   ],
   "source": [
    "my_list = [1, 2, 4]\n",
    "my_list.insert(2, 3)\n",
    "print(my_list)  # Вывод: [1, 2, 3, 4]"
   ]
  },
  {
   "cell_type": "markdown",
   "metadata": {},
   "source": [
    "### Удаление элементов\n",
    "\n",
    "Для удаления элементов из списка используются методы `pop()` и `remove()`."
   ]
  },
  {
   "cell_type": "code",
   "execution_count": 4,
   "metadata": {},
   "outputs": [
    {
     "name": "stdout",
     "output_type": "stream",
     "text": [
      "12\n",
      "[2, 4, 6, 8, 10]\n",
      "[2, 6, 8, 10]\n"
     ]
    }
   ],
   "source": [
    "my_list = [2, 4, 6, 8, 10, 12]\n",
    "\n",
    "# Метод pop удаляет и возвращает элемент по индексу (по умолчанию последний)\n",
    "print(my_list.pop())   # Вывод: 12\n",
    "print(my_list)         # Вывод: [2, 4, 6, 8, 10]\n",
    "\n",
    "# Метод remove удаляет первый найденный элемент\n",
    "my_list.remove(4)\n",
    "print(my_list)         # Вывод: [2, 6, 8, 10]"
   ]
  },
  {
   "cell_type": "markdown",
   "metadata": {},
   "source": [
    "### Метод `pop()`\n",
    "\n",
    "Метод `pop()` удаляет элемент из списка по указанному индексу и возвращает этот элемент. \n",
    "\n",
    "Если индекс не указан, по умолчанию удаляется и возвращается последний элемент списка.\n",
    "\n",
    "Синтаксис:  `list.pop([index])`"
   ]
  },
  {
   "cell_type": "markdown",
   "metadata": {},
   "source": [
    "- index (необязательный): Индекс удаляемого элемента. Если не указан, удаляется последний элемент списка.\n",
    "\n",
    "Пример использования"
   ]
  },
  {
   "cell_type": "code",
   "execution_count": 12,
   "metadata": {},
   "outputs": [
    {
     "name": "stdout",
     "output_type": "stream",
     "text": [
      "30\n",
      "[10, 20, 40, 50]\n",
      "50\n",
      "[10, 20, 40]\n"
     ]
    }
   ],
   "source": [
    "# Создаем список\n",
    "my_list = [10, 20, 30, 40, 50]\n",
    "\n",
    "# Удаляем и возвращаем элемент по индексу 2\n",
    "removed_element = my_list.pop(2)\n",
    "print(removed_element)  # Вывод: 30\n",
    "print(my_list)          # Вывод: [10, 20, 40, 50]\n",
    "\n",
    "# Удаляем и возвращаем последний элемент\n",
    "removed_element = my_list.pop()\n",
    "print(removed_element)  # Вывод: 50\n",
    "print(my_list)          # Вывод: [10, 20, 40]"
   ]
  },
  {
   "cell_type": "markdown",
   "metadata": {},
   "source": [
    "Если попытаться удалить элемент по несуществующему индексу, возникнет ошибка `IndexError`."
   ]
  },
  {
   "cell_type": "code",
   "execution_count": 13,
   "metadata": {},
   "outputs": [
    {
     "ename": "IndexError",
     "evalue": "pop index out of range",
     "output_type": "error",
     "traceback": [
      "\u001b[1;31m---------------------------------------------------------------------------\u001b[0m",
      "\u001b[1;31mIndexError\u001b[0m                                Traceback (most recent call last)",
      "Cell \u001b[1;32mIn[13], line 5\u001b[0m\n\u001b[0;32m      2\u001b[0m my_list \u001b[38;5;241m=\u001b[39m [\u001b[38;5;241m1\u001b[39m, \u001b[38;5;241m2\u001b[39m, \u001b[38;5;241m3\u001b[39m]\n\u001b[0;32m      4\u001b[0m \u001b[38;5;66;03m# Попытка удалить элемент по несуществующему индексу\u001b[39;00m\n\u001b[1;32m----> 5\u001b[0m removed_element \u001b[38;5;241m=\u001b[39m my_list\u001b[38;5;241m.\u001b[39mpop(\u001b[38;5;241m5\u001b[39m)\n",
      "\u001b[1;31mIndexError\u001b[0m: pop index out of range"
     ]
    }
   ],
   "source": [
    "# Создаем список\n",
    "my_list = [1, 2, 3]\n",
    "\n",
    "# Попытка удалить элемент по несуществующему индексу\n",
    "removed_element = my_list.pop(5)  # IndexError: pop index out of range"
   ]
  },
  {
   "cell_type": "markdown",
   "metadata": {},
   "source": [
    "### Метод `remove()`\n",
    "\n",
    "Метод `remove()` удаляет первый найденный элемент с указанным значением из списка.\n",
    "\n",
    "Синтаксис `list.remove(element)`"
   ]
  },
  {
   "cell_type": "markdown",
   "metadata": {},
   "source": [
    "- `element`: Значение удаляемого элемента.\n",
    "\n",
    "Пример использования"
   ]
  },
  {
   "cell_type": "code",
   "execution_count": 14,
   "metadata": {},
   "outputs": [
    {
     "name": "stdout",
     "output_type": "stream",
     "text": [
      "[10, 30, 40, 50, 20]\n",
      "[10, 30, 40, 20]\n"
     ]
    }
   ],
   "source": [
    "# Создаем список\n",
    "my_list = [10, 20, 30, 40, 50, 20]\n",
    "\n",
    "# Удаляем первый найденный элемент со значением 20\n",
    "my_list.remove(20)\n",
    "print(my_list)  # Вывод: [10, 30, 40, 50, 20]\n",
    "\n",
    "# Удаляем первый найденный элемент со значением 50\n",
    "my_list.remove(50)\n",
    "print(my_list)  # Вывод: [10, 30, 40, 20]"
   ]
  },
  {
   "cell_type": "markdown",
   "metadata": {},
   "source": [
    "Если попытаться удалить элемент, которого нет в списке, возникнет ошибка `ValueError`."
   ]
  },
  {
   "cell_type": "code",
   "execution_count": 15,
   "metadata": {},
   "outputs": [
    {
     "ename": "ValueError",
     "evalue": "list.remove(x): x not in list",
     "output_type": "error",
     "traceback": [
      "\u001b[1;31m---------------------------------------------------------------------------\u001b[0m",
      "\u001b[1;31mValueError\u001b[0m                                Traceback (most recent call last)",
      "Cell \u001b[1;32mIn[15], line 5\u001b[0m\n\u001b[0;32m      2\u001b[0m my_list \u001b[38;5;241m=\u001b[39m [\u001b[38;5;241m1\u001b[39m, \u001b[38;5;241m2\u001b[39m, \u001b[38;5;241m3\u001b[39m]\n\u001b[0;32m      4\u001b[0m \u001b[38;5;66;03m# Попытка удалить несуществующий элемент\u001b[39;00m\n\u001b[1;32m----> 5\u001b[0m my_list\u001b[38;5;241m.\u001b[39mremove(\u001b[38;5;241m4\u001b[39m)\n",
      "\u001b[1;31mValueError\u001b[0m: list.remove(x): x not in list"
     ]
    }
   ],
   "source": [
    "# Создаем список\n",
    "my_list = [1, 2, 3]\n",
    "\n",
    "# Попытка удалить несуществующий элемент\n",
    "my_list.remove(4)  # ValueError: list.remove(x): x not in list\n"
   ]
  },
  {
   "cell_type": "markdown",
   "metadata": {},
   "source": [
    "### Отличия между `pop()` и `remove()`\n",
    "\n",
    "- `pop()`:\n",
    "\n",
    "- Удаляет элемент по индексу.\n",
    "\n",
    "- Возвращает удалённый элемент.\n",
    "\n",
    "- Если индекс не указан, удаляется и возвращается последний элемент списка.\n",
    "\n",
    "- Может вызвать ошибку IndexError, если индекс вне диапазона списка.\n",
    "\n",
    "- `remove()`:\n",
    "\n",
    "- Удаляет первый найденный элемент с указанным значением.\n",
    "\n",
    "- Не возвращает удалённый элемент.\n",
    "\n",
    "- Может вызвать ошибку ValueError, если элемент не найден в списке.\n",
    "\n",
    "Сравнительный пример"
   ]
  },
  {
   "cell_type": "code",
   "execution_count": 16,
   "metadata": {},
   "outputs": [
    {
     "name": "stdout",
     "output_type": "stream",
     "text": [
      "4\n",
      "[1, 2, 3, 2, 5]\n",
      "[1, 3, 2, 5]\n"
     ]
    }
   ],
   "source": [
    "# Создаем список\n",
    "my_list = [1, 2, 3, 4, 2, 5]\n",
    "\n",
    "# Используем метод pop для удаления элемента по индексу\n",
    "removed_element = my_list.pop(3)\n",
    "print(removed_element)  # Вывод: 4\n",
    "print(my_list)          # Вывод: [1, 2, 3, 2, 5]\n",
    "\n",
    "# Используем метод remove для удаления первого найденного элемента со значением 2\n",
    "my_list.remove(2)\n",
    "print(my_list)          # Вывод: [1, 3, 2, 5]"
   ]
  },
  {
   "cell_type": "markdown",
   "metadata": {},
   "source": [
    "### Подсчёт элементов\n",
    "\n",
    "Метод `count()` возвращает количество вхождений указанного элемента в списке."
   ]
  },
  {
   "cell_type": "code",
   "execution_count": 29,
   "metadata": {},
   "outputs": [
    {
     "name": "stdout",
     "output_type": "stream",
     "text": [
      "3\n",
      "0\n"
     ]
    }
   ],
   "source": [
    "my_list = [1, 2, 3, 2, 2, 4]\n",
    "print(my_list.count(2))  # Вывод: 3\n",
    "print(my_list.count(5))  # Вывод: 0"
   ]
  },
  {
   "cell_type": "markdown",
   "metadata": {},
   "source": [
    "### Поиск элементов\n",
    "\n",
    "Метод `index()` возвращает индекс первого вхождения указанного элемента в списке. Можно указать начальный и конечный индексы для поиска."
   ]
  },
  {
   "cell_type": "code",
   "execution_count": 30,
   "metadata": {},
   "outputs": [
    {
     "name": "stdout",
     "output_type": "stream",
     "text": [
      "1\n",
      "3\n",
      "1\n"
     ]
    }
   ],
   "source": [
    "my_list = [1, 2, 3, 2, 4]\n",
    "print(my_list.index(2))          # Вывод: 1\n",
    "print(my_list.index(2, 2))       # Вывод: 3\n",
    "print(my_list.index(2, 1, 4))    # Вывод: 1"
   ]
  },
  {
   "cell_type": "markdown",
   "metadata": {},
   "source": [
    "### Сортировка и разворот списка\n",
    "\n",
    "Для сортировки и разворота списка используются методы `sort()`, `sorted()`, `reverse()` и `reversed()`."
   ]
  },
  {
   "cell_type": "code",
   "execution_count": 5,
   "metadata": {},
   "outputs": [
    {
     "name": "stdout",
     "output_type": "stream",
     "text": [
      "[1, 2, 4, 9]\n",
      "[9, 4, 2, 1]\n",
      "[9, 4, 2, 1]\n",
      "[1, 2, 4, 9]\n"
     ]
    }
   ],
   "source": [
    "my_list = [4, 2, 9, 1]\n",
    "\n",
    "# Сортировка списка (на месте)\n",
    "my_list.sort()\n",
    "print(my_list)  # Вывод: [1, 2, 4, 9]\n",
    "\n",
    "# Сортировка с созданием нового списка\n",
    "new_list = sorted(my_list, reverse=True)\n",
    "print(new_list)  # Вывод: [9, 4, 2, 1]\n",
    "\n",
    "# Разворот списка (на месте)\n",
    "my_list.reverse()\n",
    "print(my_list)  # Вывод: [9, 4, 2, 1]\n",
    "\n",
    "# Разворот с созданием нового списка\n",
    "new_list = list(reversed(my_list))\n",
    "print(new_list)  # Вывод: [1, 2, 4, 9]"
   ]
  },
  {
   "cell_type": "markdown",
   "metadata": {},
   "source": [
    "### Метод `insert()`\n",
    "\n",
    "Метод `insert()` вставляет элемент на указанную позицию."
   ]
  },
  {
   "cell_type": "code",
   "execution_count": 19,
   "metadata": {},
   "outputs": [
    {
     "name": "stdout",
     "output_type": "stream",
     "text": [
      "[1, 2, 3, 4]\n"
     ]
    }
   ],
   "source": [
    "my_list = [1, 2, 4]\n",
    "my_list.insert(2, 3)\n",
    "print(my_list)  # Вывод: [1, 2, 3, 4]"
   ]
  },
  {
   "cell_type": "markdown",
   "metadata": {},
   "source": [
    "### Срезы (slices)\n",
    "\n",
    "Срезы позволяют получить подсписок, используя синтаксис `start:stop:step`."
   ]
  },
  {
   "cell_type": "code",
   "execution_count": 32,
   "metadata": {},
   "outputs": [
    {
     "name": "stdout",
     "output_type": "stream",
     "text": [
      "[2, 3, 4]\n",
      "[1, 2, 3]\n",
      "[4, 5, 6]\n",
      "[1, 3, 5]\n",
      "[6, 5, 4, 3, 2, 1]\n"
     ]
    }
   ],
   "source": [
    "my_list = [1, 2, 3, 4, 5, 6]\n",
    "print(my_list[1:4])   # Вывод: [2, 3, 4]\n",
    "print(my_list[:3])    # Вывод: [1, 2, 3]\n",
    "print(my_list[3:])    # Вывод: [4, 5, 6]\n",
    "print(my_list[::2])   # Вывод: [1, 3, 5]\n",
    "print(my_list[::-1])  # Вывод: [6, 5, 4, 3, 2, 1]"
   ]
  },
  {
   "cell_type": "markdown",
   "metadata": {},
   "source": [
    "### Копирование списка\n",
    "\n",
    "Метод `copy()` возвращает поверхностную копию списка. "
   ]
  },
  {
   "cell_type": "code",
   "execution_count": 33,
   "metadata": {},
   "outputs": [
    {
     "name": "stdout",
     "output_type": "stream",
     "text": [
      "[1, 2, 3]\n"
     ]
    }
   ],
   "source": [
    "my_list = [1, 2, 3]\n",
    "new_list = my_list.copy()\n",
    "print(new_list)  # Вывод: [1, 2, 3]"
   ]
  },
  {
   "cell_type": "markdown",
   "metadata": {},
   "source": [
    "### Функция `copy.deepcopy()`\n",
    "\n",
    "Функция `copy.deepcopy()` из модуля copy создаёт глубокую копию объекта, копируя все вложенные объекты."
   ]
  },
  {
   "cell_type": "code",
   "execution_count": 34,
   "metadata": {},
   "outputs": [
    {
     "name": "stdout",
     "output_type": "stream",
     "text": [
      "[[1, 2, 3], [4, 5, 6]]\n"
     ]
    }
   ],
   "source": [
    "import copy\n",
    "\n",
    "my_list = [[1, 2, 3], [4, 5, 6]]\n",
    "new_list = copy.deepcopy(my_list)\n",
    "print(new_list)  # Вывод: [[1, 2, 3], [4, 5, 6]]"
   ]
  },
  {
   "cell_type": "markdown",
   "metadata": {},
   "source": [
    "### Длина списка\n",
    "\n",
    "Функция `len()` возвращает количество элементов в списке."
   ]
  },
  {
   "cell_type": "code",
   "execution_count": 35,
   "metadata": {},
   "outputs": [
    {
     "name": "stdout",
     "output_type": "stream",
     "text": [
      "4\n"
     ]
    }
   ],
   "source": [
    "my_list = [1, 2, 3, 4]\n",
    "print(len(my_list))  # Вывод: 4"
   ]
  },
  {
   "cell_type": "markdown",
   "metadata": {},
   "source": [
    "### Кортежи `(tuple)`\n",
    "\n",
    "Создание кортежа\n",
    "\n",
    "Кортеж — это упорядоченная неизменяемая коллекция элементов. Он создаётся с помощью круглых скобок или функции `tuple()`"
   ]
  },
  {
   "cell_type": "code",
   "execution_count": 68,
   "metadata": {},
   "outputs": [
    {
     "name": "stdout",
     "output_type": "stream",
     "text": [
      "my_tuple=(1, 2, 3)\n",
      "another_tuple=(4, 5, 6)\n"
     ]
    }
   ],
   "source": [
    "my_tuple = (1, 2, 3)\n",
    "another_tuple = tuple([4, 5, 6])\n",
    "\n",
    "print(f'my_tuple={my_tuple}')\n",
    "print(f'another_tuple={another_tuple}')"
   ]
  },
  {
   "cell_type": "code",
   "execution_count": 36,
   "metadata": {},
   "outputs": [
    {
     "name": "stdout",
     "output_type": "stream",
     "text": [
      "()\n",
      "()\n",
      "(3.14, True, 'Hello world!')\n",
      "(3.14, True, 'Hello world!')\n"
     ]
    }
   ],
   "source": [
    "# Пустой кортеж\n",
    "tuple_1_1 = tuple()\n",
    "tuple_2_1 = ()\n",
    "\n",
    "# Кортеж с элементами\n",
    "tuple_3_1 = (3.14, True, \"Hello world!\")\n",
    "tuple_4_1 = tuple((3.14, True, \"Hello world!\"))\n",
    "\n",
    "print(tuple_1_1)\n",
    "print(tuple_2_1)\n",
    "print(tuple_3_1)\n",
    "print(tuple_4_1)"
   ]
  },
  {
   "cell_type": "markdown",
   "metadata": {},
   "source": [
    "### Доступ к элементам кортежа\n",
    "\n",
    "Элементы кортежа доступны по индексу, начиная с 0. Можно использовать как положительные, так и отрицательные индексы."
   ]
  },
  {
   "cell_type": "code",
   "execution_count": 37,
   "metadata": {},
   "outputs": [
    {
     "name": "stdout",
     "output_type": "stream",
     "text": [
      "2\n",
      "12\n"
     ]
    }
   ],
   "source": [
    "my_tuple = (2, 4, 6, 8, 10, 12)\n",
    "print(my_tuple[0])   # Вывод: 2\n",
    "print(my_tuple[-1])  # Вывод: 12"
   ]
  },
  {
   "cell_type": "markdown",
   "metadata": {},
   "source": [
    "### Изменение кортежа\n",
    "\n",
    "Кортежи неизменяемы, поэтому вы не можете изменять их элементы после создания. Если нужно изменить кортеж, вы можете создать новый кортеж на \n",
    "основе существующего."
   ]
  },
  {
   "cell_type": "code",
   "execution_count": 38,
   "metadata": {},
   "outputs": [
    {
     "name": "stdout",
     "output_type": "stream",
     "text": [
      "(1, 2, 3, 4, 5)\n"
     ]
    }
   ],
   "source": [
    "my_tuple = (1, 2, 3)\n",
    "new_tuple = my_tuple + (4, 5)\n",
    "print(new_tuple)  # Вывод: (1, 2, 3, 4, 5)"
   ]
  },
  {
   "cell_type": "markdown",
   "metadata": {},
   "source": [
    "### Подсчёт элементов\n",
    "\n",
    "Метод `count()` возвращает количество вхождений указанного элемента в кортеже."
   ]
  },
  {
   "cell_type": "code",
   "execution_count": 39,
   "metadata": {},
   "outputs": [
    {
     "name": "stdout",
     "output_type": "stream",
     "text": [
      "3\n",
      "0\n"
     ]
    }
   ],
   "source": [
    "my_tuple = (1, 2, 3, 2, 2, 4)\n",
    "print(my_tuple.count(2))  # Вывод: 3\n",
    "print(my_tuple.count(5))  # Вывод: 0"
   ]
  },
  {
   "cell_type": "markdown",
   "metadata": {},
   "source": [
    "### Поиск элементов\n",
    "\n",
    "Метод `index()` возвращает индекс первого вхождения указанного элемента в кортеже. Можно указать начальный и конечный индексы для поиска"
   ]
  },
  {
   "cell_type": "code",
   "execution_count": 40,
   "metadata": {},
   "outputs": [
    {
     "name": "stdout",
     "output_type": "stream",
     "text": [
      "1\n",
      "3\n",
      "1\n"
     ]
    }
   ],
   "source": [
    "my_tuple = (1, 2, 3, 2, 4)\n",
    "print(my_tuple.index(2))          # Вывод: 1\n",
    "print(my_tuple.index(2, 2))       # Вывод: 3\n",
    "print(my_tuple.index(2, 1, 4))    # Вывод: 1"
   ]
  },
  {
   "cell_type": "markdown",
   "metadata": {},
   "source": [
    "### Срезы (slices)\n",
    "\n",
    "Срезы позволяют получить подкортеже, используя синтаксис `start:stop:step`."
   ]
  },
  {
   "cell_type": "code",
   "execution_count": 41,
   "metadata": {},
   "outputs": [
    {
     "name": "stdout",
     "output_type": "stream",
     "text": [
      "(2, 3, 4)\n",
      "(1, 2, 3)\n",
      "(4, 5, 6)\n",
      "(1, 3, 5)\n",
      "(6, 5, 4, 3, 2, 1)\n"
     ]
    }
   ],
   "source": [
    "my_tuple = (1, 2, 3, 4, 5, 6)\n",
    "print(my_tuple[1:4])   # Вывод: (2, 3, 4)\n",
    "print(my_tuple[:3])    # Вывод: (1, 2, 3)\n",
    "print(my_tuple[3:])    # Вывод: (4, 5, 6)\n",
    "print(my_tuple[::2])   # Вывод: (1, 3, 5)\n",
    "print(my_tuple[::-1])  # Вывод: (6, 5, 4, 3, 2, 1)"
   ]
  },
  {
   "cell_type": "markdown",
   "metadata": {},
   "source": [
    "### Копирование кортежа\n",
    "\n",
    "Кортежи неизменяемы, поэтому копирование кортежа осуществляется путём создания нового кортежа с теми же элементами."
   ]
  },
  {
   "cell_type": "code",
   "execution_count": 42,
   "metadata": {},
   "outputs": [
    {
     "name": "stdout",
     "output_type": "stream",
     "text": [
      "(1, 2, 3)\n"
     ]
    }
   ],
   "source": [
    "my_tuple = (1, 2, 3)\n",
    "new_tuple = my_tuple[:]\n",
    "print(new_tuple)  # Вывод: (1, 2, 3)"
   ]
  },
  {
   "cell_type": "markdown",
   "metadata": {},
   "source": [
    "### Длина кортежа\n",
    "\n",
    "Функция `len()` возвращает количество элементов в кортеже."
   ]
  },
  {
   "cell_type": "code",
   "execution_count": 43,
   "metadata": {},
   "outputs": [
    {
     "name": "stdout",
     "output_type": "stream",
     "text": [
      "4\n"
     ]
    }
   ],
   "source": [
    "my_tuple = (1, 2, 3, 4)\n",
    "print(len(my_tuple))  # Вывод: 4"
   ]
  },
  {
   "cell_type": "markdown",
   "metadata": {},
   "source": [
    "### Преобразование кортежа в список и обратно\n",
    "\n",
    "Вы можете преобразовать кортеж в список с помощью функции `list()` и наоборот с помощью функции `tuple()`."
   ]
  },
  {
   "cell_type": "code",
   "execution_count": 44,
   "metadata": {},
   "outputs": [
    {
     "name": "stdout",
     "output_type": "stream",
     "text": [
      "[1, 2, 3]\n",
      "(1, 2, 3)\n"
     ]
    }
   ],
   "source": [
    "my_tuple = (1, 2, 3)\n",
    "my_list = list(my_tuple)\n",
    "print(my_list)  # Вывод: [1, 2, 3]\n",
    "\n",
    "new_tuple = tuple(my_list)\n",
    "print(new_tuple)  # Вывод: (1, 2, 3)"
   ]
  },
  {
   "cell_type": "markdown",
   "metadata": {},
   "source": [
    "### 2. Строки `(str)`\n",
    "\n",
    "Строки — это последовательности символов. Строки в Python неизменяемы, но с ними можно работать как с массивами символов.\n",
    "\n",
    "Создание строки:"
   ]
  },
  {
   "cell_type": "code",
   "execution_count": 46,
   "metadata": {},
   "outputs": [
    {
     "name": "stdout",
     "output_type": "stream",
     "text": [
      "Hello, world!\n",
      "Hello, world!\n",
      "Hello,\n",
      "world!\n"
     ]
    }
   ],
   "source": [
    "string_1 = 'Hello, world!'\n",
    "string_2 = \"Hello, world!\"\n",
    "string_3 = '''Hello,\n",
    "world!'''\n",
    "\n",
    "print(string_1)\n",
    "print(string_2)\n",
    "print(string_3)"
   ]
  },
  {
   "cell_type": "markdown",
   "metadata": {},
   "source": [
    "### Доступ к символам строки\n",
    "\n",
    "Символы строки доступны по индексу, начиная с 0. Можно использовать как положительные, так и отрицательные индексы."
   ]
  },
  {
   "cell_type": "code",
   "execution_count": 47,
   "metadata": {},
   "outputs": [
    {
     "name": "stdout",
     "output_type": "stream",
     "text": [
      "P\n",
      "n\n"
     ]
    }
   ],
   "source": [
    "my_string = \"Python\"\n",
    "print(my_string[0])   # Вывод: P\n",
    "print(my_string[-1])  # Вывод: n"
   ]
  },
  {
   "cell_type": "markdown",
   "metadata": {},
   "source": [
    "### Срезы строк\n",
    "\n",
    "Срезы позволяют получить подстроку, используя синтаксис `start:stop:step`."
   ]
  },
  {
   "cell_type": "code",
   "execution_count": 48,
   "metadata": {},
   "outputs": [
    {
     "name": "stdout",
     "output_type": "stream",
     "text": [
      "yth\n",
      "Pyt\n",
      "hon\n",
      "Pto\n",
      "nohtyP\n"
     ]
    }
   ],
   "source": [
    "my_string = \"Python\"\n",
    "print(my_string[1:4])   # Вывод: yth\n",
    "print(my_string[:3])    # Вывод: Pyt\n",
    "print(my_string[3:])    # Вывод: hon\n",
    "print(my_string[::2])   # Вывод: Pto\n",
    "print(my_string[::-1])  # Вывод: nohtyP"
   ]
  },
  {
   "cell_type": "markdown",
   "metadata": {},
   "source": [
    "### Форматирование строк\n",
    "\n",
    "Конкатенация\n",
    "\n",
    "Конкатенация строк выполняется с помощью оператора `+`."
   ]
  },
  {
   "cell_type": "code",
   "execution_count": 49,
   "metadata": {},
   "outputs": [
    {
     "name": "stdout",
     "output_type": "stream",
     "text": [
      "John Doe\n"
     ]
    }
   ],
   "source": [
    "first_name = \"John\"\n",
    "last_name = \"Doe\"\n",
    "full_name = first_name + \" \" + last_name\n",
    "print(full_name)  # Вывод: John Doe"
   ]
  },
  {
   "cell_type": "markdown",
   "metadata": {},
   "source": [
    "### Интерполяция\n",
    "\n",
    "Интерполяция строк выполняется с помощью метода `format()`, `f`-строк и других методов."
   ]
  },
  {
   "cell_type": "code",
   "execution_count": 50,
   "metadata": {},
   "outputs": [
    {
     "name": "stdout",
     "output_type": "stream",
     "text": [
      "My name is Alice. I am 30 years old.\n",
      "My name is Alice. I am 30 years old.\n",
      "My name is Alice. I am 30 years old.\n"
     ]
    }
   ],
   "source": [
    "name = \"Alice\"\n",
    "age = 30\n",
    "\n",
    "# Метод format()\n",
    "message = \"My name is {}. I am {} years old.\".format(name, age)\n",
    "print(message)  # Вывод: My name is Alice. I am 30 years old.\n",
    "\n",
    "# f-строки (Python 3.6+)\n",
    "message = f\"My name is {name}. I am {age} years old.\"\n",
    "print(message)  # Вывод: My name is Alice. I am 30 years old.\n",
    "\n",
    "# Старый способ с %\n",
    "message = \"My name is %s. I am %d years old.\" % (name, age)\n",
    "print(message)  # Вывод: My name is Alice. I am 30 years old."
   ]
  },
  {
   "cell_type": "markdown",
   "metadata": {},
   "source": [
    "### Преобразование регистра\n",
    "\n",
    "Метод `upper()` возвращает строку, в которой все буквы переведены в верхний регистр."
   ]
  },
  {
   "cell_type": "code",
   "execution_count": 51,
   "metadata": {},
   "outputs": [
    {
     "name": "stdout",
     "output_type": "stream",
     "text": [
      "HELLO, WORLD!\n"
     ]
    }
   ],
   "source": [
    "my_string = \"Hello, world!\"\n",
    "print(my_string.upper())  # Вывод: HELLO, WORLD!"
   ]
  },
  {
   "cell_type": "markdown",
   "metadata": {},
   "source": [
    "### Метод `lower()`\n",
    "\n",
    "Метод `lower()` возвращает строку, в которой все буквы переведены в нижний регистр."
   ]
  },
  {
   "cell_type": "code",
   "execution_count": 52,
   "metadata": {},
   "outputs": [
    {
     "name": "stdout",
     "output_type": "stream",
     "text": [
      "hello, world!\n"
     ]
    }
   ],
   "source": [
    "my_string = \"Hello, world!\"\n",
    "print(my_string.lower())  # Вывод: hello, world!"
   ]
  },
  {
   "cell_type": "markdown",
   "metadata": {},
   "source": [
    "### Метод `capitalize()`\n",
    "\n",
    "Метод `capitalize()` возвращает строку, в которой первый символ переведён в верхний регистр, а остальные — в нижний."
   ]
  },
  {
   "cell_type": "code",
   "execution_count": 53,
   "metadata": {},
   "outputs": [
    {
     "name": "stdout",
     "output_type": "stream",
     "text": [
      "Hello, world!\n"
     ]
    }
   ],
   "source": [
    "my_string = \"hello, world!\"\n",
    "print(my_string.capitalize())  # Вывод: Hello, world!"
   ]
  },
  {
   "cell_type": "markdown",
   "metadata": {},
   "source": [
    "### Метод `title()`\n",
    "\n",
    "Метод `title()` возвращает строку, в которой первый символ каждого слова переведён в верхний регистр."
   ]
  },
  {
   "cell_type": "code",
   "execution_count": 54,
   "metadata": {},
   "outputs": [
    {
     "name": "stdout",
     "output_type": "stream",
     "text": [
      "Hello, World!\n"
     ]
    }
   ],
   "source": [
    "my_string = \"hello, world!\"\n",
    "print(my_string.title())  # Вывод: Hello, World!"
   ]
  },
  {
   "cell_type": "markdown",
   "metadata": {},
   "source": [
    "### Замена подстрок\n",
    "\n",
    "Метод `replace()` возвращает строку, в которой все вхождения одной подстроки заменены на другую."
   ]
  },
  {
   "cell_type": "code",
   "execution_count": 55,
   "metadata": {},
   "outputs": [
    {
     "name": "stdout",
     "output_type": "stream",
     "text": [
      "Hello, Python!\n"
     ]
    }
   ],
   "source": [
    "my_string = \"Hello, world!\"\n",
    "new_string = my_string.replace(\"world\", \"Python\")\n",
    "print(new_string)  # Вывод: Hello, Python!"
   ]
  },
  {
   "cell_type": "markdown",
   "metadata": {},
   "source": [
    "### Удаление пробелов\n",
    "\n",
    "Метод `strip()` удаляет пробелы в начале и конце строки."
   ]
  },
  {
   "cell_type": "code",
   "execution_count": 56,
   "metadata": {},
   "outputs": [
    {
     "name": "stdout",
     "output_type": "stream",
     "text": [
      "Hello, world!\n"
     ]
    }
   ],
   "source": [
    "my_string = \"   Hello, world!   \"\n",
    "print(my_string.strip())  # Вывод: Hello, world!"
   ]
  },
  {
   "cell_type": "markdown",
   "metadata": {},
   "source": [
    "### Метод `lstrip()`\n",
    "\n",
    "Метод `lstrip()` удаляет пробелы в начале строки."
   ]
  },
  {
   "cell_type": "code",
   "execution_count": 57,
   "metadata": {},
   "outputs": [
    {
     "name": "stdout",
     "output_type": "stream",
     "text": [
      "Hello, world!   \n"
     ]
    }
   ],
   "source": [
    "my_string = \"   Hello, world!   \"\n",
    "print(my_string.lstrip())  # Вывод: Hello, world!   "
   ]
  },
  {
   "cell_type": "markdown",
   "metadata": {},
   "source": [
    "### Метод `rstrip()`\n",
    "\n",
    "Метод `rstrip()` удаляет пробелы в конце строки."
   ]
  },
  {
   "cell_type": "code",
   "execution_count": 58,
   "metadata": {},
   "outputs": [
    {
     "name": "stdout",
     "output_type": "stream",
     "text": [
      "   Hello, world!\n"
     ]
    }
   ],
   "source": [
    "my_string = \"   Hello, world!   \"\n",
    "print(my_string.rstrip())  # Вывод:    Hello, world!"
   ]
  },
  {
   "cell_type": "markdown",
   "metadata": {},
   "source": [
    "### Подсчёт символов\n",
    "\n",
    "Метод `count()` возвращает количество вхождений указанной подстроки в строке."
   ]
  },
  {
   "cell_type": "code",
   "execution_count": 59,
   "metadata": {},
   "outputs": [
    {
     "name": "stdout",
     "output_type": "stream",
     "text": [
      "2\n",
      "3\n"
     ]
    }
   ],
   "source": [
    "my_string = \"Hello, world!\"\n",
    "print(my_string.count('o'))  # Вывод: 2\n",
    "print(my_string.count('l'))  # Вывод: 3"
   ]
  },
  {
   "cell_type": "markdown",
   "metadata": {},
   "source": [
    "### Поиск подстрок\n",
    "\n",
    "Метод `find()` возвращает индекс первого вхождения указанной подстроки в строке. Если подстрока не найдена, возвращает -1."
   ]
  },
  {
   "cell_type": "code",
   "execution_count": 60,
   "metadata": {},
   "outputs": [
    {
     "name": "stdout",
     "output_type": "stream",
     "text": [
      "7\n",
      "-1\n"
     ]
    }
   ],
   "source": [
    "my_string = \"Hello, world!\"\n",
    "print(my_string.find('world'))  # Вывод: 7\n",
    "print(my_string.find('Python')) # Вывод: -1"
   ]
  },
  {
   "cell_type": "markdown",
   "metadata": {},
   "source": [
    "### Метод `index()`\n",
    "\n",
    "Метод `index()` возвращает индекс первого вхождения указанной подстроки в строке. Если подстрока не найдена, вызывает исключение `ValueError`."
   ]
  },
  {
   "cell_type": "code",
   "execution_count": 61,
   "metadata": {},
   "outputs": [
    {
     "name": "stdout",
     "output_type": "stream",
     "text": [
      "7\n"
     ]
    },
    {
     "ename": "ValueError",
     "evalue": "substring not found",
     "output_type": "error",
     "traceback": [
      "\u001b[1;31m---------------------------------------------------------------------------\u001b[0m",
      "\u001b[1;31mValueError\u001b[0m                                Traceback (most recent call last)",
      "Cell \u001b[1;32mIn[61], line 3\u001b[0m\n\u001b[0;32m      1\u001b[0m my_string \u001b[38;5;241m=\u001b[39m \u001b[38;5;124m\"\u001b[39m\u001b[38;5;124mHello, world!\u001b[39m\u001b[38;5;124m\"\u001b[39m\n\u001b[0;32m      2\u001b[0m \u001b[38;5;28mprint\u001b[39m(my_string\u001b[38;5;241m.\u001b[39mindex(\u001b[38;5;124m'\u001b[39m\u001b[38;5;124mworld\u001b[39m\u001b[38;5;124m'\u001b[39m))  \u001b[38;5;66;03m# Вывод: 7\u001b[39;00m\n\u001b[1;32m----> 3\u001b[0m \u001b[38;5;28mprint\u001b[39m(my_string\u001b[38;5;241m.\u001b[39mindex(\u001b[38;5;124m'\u001b[39m\u001b[38;5;124mPython\u001b[39m\u001b[38;5;124m'\u001b[39m))\n",
      "\u001b[1;31mValueError\u001b[0m: substring not found"
     ]
    }
   ],
   "source": [
    "my_string = \"Hello, world!\"\n",
    "print(my_string.index('world'))  # Вывод: 7\n",
    "print(my_string.index('Python')) # Вывод: ValueError: substring not found"
   ]
  },
  {
   "cell_type": "markdown",
   "metadata": {},
   "source": [
    "### Разделение строки\n",
    "\n",
    "Метод `split()` разбивает строку на список подстрок по указанному разделителю."
   ]
  },
  {
   "cell_type": "code",
   "execution_count": 62,
   "metadata": {},
   "outputs": [
    {
     "name": "stdout",
     "output_type": "stream",
     "text": [
      "['apple', 'banana', 'cherry']\n"
     ]
    }
   ],
   "source": [
    "my_string = \"apple, banana, cherry\"\n",
    "fruits = my_string.split(\", \")\n",
    "print(fruits)  # Вывод: ['apple', 'banana', 'cherry']"
   ]
  },
  {
   "cell_type": "markdown",
   "metadata": {},
   "source": [
    "### Объединение строк\n",
    "\n",
    "Метод `join()` объединяет элементы списка в одну строку, используя указанный разделитель."
   ]
  },
  {
   "cell_type": "code",
   "execution_count": 63,
   "metadata": {},
   "outputs": [
    {
     "name": "stdout",
     "output_type": "stream",
     "text": [
      "apple, banana, cherry\n"
     ]
    }
   ],
   "source": [
    "fruits = ['apple', 'banana', 'cherry']\n",
    "my_string = \", \".join(fruits)\n",
    "print(my_string)  # Вывод: apple, banana, cherry"
   ]
  },
  {
   "cell_type": "markdown",
   "metadata": {},
   "source": [
    "### Форматирование строк `(string formatting)`\n",
    "\n",
    "Старый способ (%)"
   ]
  },
  {
   "cell_type": "code",
   "execution_count": 64,
   "metadata": {},
   "outputs": [
    {
     "name": "stdout",
     "output_type": "stream",
     "text": [
      "My name is Alice. I am 30 years old.\n"
     ]
    }
   ],
   "source": [
    "name = \"Alice\"\n",
    "age = 30\n",
    "print(\"My name is %s. I am %d years old.\" % (name, age))  # Вывод: My name is Alice. I am 30 years old."
   ]
  },
  {
   "cell_type": "markdown",
   "metadata": {},
   "source": [
    "### Метод `format()`"
   ]
  },
  {
   "cell_type": "code",
   "execution_count": 65,
   "metadata": {},
   "outputs": [
    {
     "name": "stdout",
     "output_type": "stream",
     "text": [
      "My name is Alice. I am 30 years old.\n"
     ]
    }
   ],
   "source": [
    "name = \"Alice\"\n",
    "age = 30\n",
    "print(\"My name is {}. I am {} years old.\".format(name, age))  # Вывод: My name is Alice. I am 30 years old."
   ]
  },
  {
   "cell_type": "markdown",
   "metadata": {},
   "source": [
    "### `f`-строки (Python 3.6+)"
   ]
  },
  {
   "cell_type": "code",
   "execution_count": 66,
   "metadata": {},
   "outputs": [
    {
     "name": "stdout",
     "output_type": "stream",
     "text": [
      "My name is Alice. I am 30 years old.\n"
     ]
    }
   ],
   "source": [
    "name = \"Alice\"\n",
    "age = 30\n",
    "print(f\"My name is {name}. I am {age} years old.\")  # Вывод: My name is Alice. I am 30 years old."
   ]
  },
  {
   "cell_type": "markdown",
   "metadata": {},
   "source": [
    "### Спецификаторы форматирования\n",
    "\n",
    "Вы можете использовать различные спецификаторы форматирования для управления выводом строк, чисел и других типов данных."
   ]
  },
  {
   "cell_type": "code",
   "execution_count": 67,
   "metadata": {},
   "outputs": [
    {
     "name": "stdout",
     "output_type": "stream",
     "text": [
      "Number: 123.46\n",
      "Hello     \n",
      "     Hello\n",
      "  Hello   \n",
      "**Hello***\n",
      "11111111\n",
      "377\n",
      "ff\n",
      "255\n",
      "00000255\n"
     ]
    }
   ],
   "source": [
    "# Форматирование чисел\n",
    "number = 123.456\n",
    "print(f\"Number: {number:.2f}\")  # Вывод: Number: 123.46\n",
    "\n",
    "# Выравнивание текста\n",
    "text = \"Hello\"\n",
    "print(f\"{text:<10}\")  # Вывод: Hello     \n",
    "print(f\"{text:>10}\")  # Вывод:      Hello\n",
    "print(f\"{text:^10}\")  # Вывод:   Hello   \n",
    "\n",
    "# Заполнение символами\n",
    "print(f\"{text:*^10}\")  # Вывод: ***Hello***\n",
    "\n",
    "# Работа с числами\n",
    "number = 255\n",
    "print(f\"{number:b}\")   # Вывод: 11111111 (бинарное представление)\n",
    "print(f\"{number:o}\")   # Вывод: 377 (восьмеричное представление)\n",
    "print(f\"{number:x}\")   # Вывод: ff (шестнадцатеричное представление)\n",
    "print(f\"{number:,}\")   # Вывод: 255 (разделение тысячных разрядов)\n",
    "print(f\"{number:0>8}\") # Вывод: 00000255 (дополнение нулями слева до 8 символов)"
   ]
  }
 ],
 "metadata": {
  "kernelspec": {
   "display_name": "Python 3 (ipykernel)",
   "language": "python",
   "name": "python3"
  },
  "language_info": {
   "codemirror_mode": {
    "name": "ipython",
    "version": 3
   },
   "file_extension": ".py",
   "mimetype": "text/x-python",
   "name": "python",
   "nbconvert_exporter": "python",
   "pygments_lexer": "ipython3",
   "version": "3.11.5"
  }
 },
 "nbformat": 4,
 "nbformat_minor": 2
}
